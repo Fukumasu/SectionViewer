{
 "cells": [
  {
   "cell_type": "code",
   "execution_count": null,
   "id": "2c32e856-497e-4932-8b22-cba163e13ea0",
   "metadata": {},
   "outputs": [],
   "source": [
    "import sectionviewer as sv\n",
    "import matplotlib.pyplot as plt"
   ]
  },
  {
   "cell_type": "markdown",
   "id": "737e849e-f305-432f-8215-2723b65a3889",
   "metadata": {},
   "source": [
    "You can launch GUI software of SectionViewer by the following code."
   ]
  },
  {
   "cell_type": "code",
   "execution_count": null,
   "id": "d60db4be-75ab-4177-9d21-5ba27907cad5",
   "metadata": {},
   "outputs": [],
   "source": [
    "sv.launch()"
   ]
  },
  {
   "cell_type": "markdown",
   "id": "5d737db1-ca35-43e4-9389-c8537c8bb465",
   "metadata": {},
   "source": [
    "### SECV\n",
    "Pass a file path (.secv, .oir, .oib, .tif, .tiff) to 'load' function, and you will get a SECV object that enables you to manage SectionViewer settings or data from CUI."
   ]
  },
  {
   "cell_type": "code",
   "execution_count": null,
   "id": "beec05de-ac3e-483d-8095-f6dcb0a47752",
   "metadata": {},
   "outputs": [],
   "source": [
    "secv = sv.load('your_secv_file.secv')"
   ]
  },
  {
   "cell_type": "markdown",
   "id": "31e7a0c7-aa33-4554-bff9-6193d2013e56",
   "metadata": {},
   "source": [
    "SECV object consists of the following components:"
   ]
  },
  {
   "cell_type": "code",
   "execution_count": null,
   "id": "32478d1d-aa63-4a80-b557-1462d824db7b",
   "metadata": {},
   "outputs": [
    {
     "name": "stdout",
     "output_type": "stream",
     "text": [
      "< Files >\n",
      "{ 'secv path': '.../your_secv_file.secv',\n",
      "      'paths': ('.../your_oib_file.oib',) }\n",
      "\n",
      "< Geometry >\n",
      "{       'X_px_size': 0.1968076171875,\n",
      "        'Y_px_size': 0.1968076171875,\n",
      "        'Z_px_size': 0.9909090909090909,\n",
      "   'expansion_rate': 0.7502407034696865,\n",
      "       'image_size': (790, 502),\n",
      " 'scale_bar_length': 20.0                }\n",
      "\n",
      "< Display >\n",
      "{     'thickness': 1,\n",
      "           'zoom': 0.94,\n",
      "           'axis': True,\n",
      "      'scale_bar': True,\n",
      "         'points': True,\n",
      "           'dock': True,\n",
      "     'white_back': False,\n",
      "          'guide': False,\n",
      "       'sideview': False,\n",
      "         'center': (402, 242),\n",
      "    'window_size': (804, 484),\n",
      " 'shown_channels': (True, True),\n",
      "    'point_focus': -1            }\n",
      "\n",
      "< Position >\n",
      "#  Z                Y                X                (px)\n",
      "[[ 7.05933956e+01,  4.81258385e+02,  5.37666928e+02]   # center\n",
      " [ 1.03463641e-02,  9.98634365e-01, -3.96497766e-03]   # vertical\n",
      " [-6.78380177e-02,  2.15477905e-02,  9.39613487e-01]]  # horizontal\n",
      "\n",
      "< Channels >\n",
      "# Name    Color (BGR)      Vrange\n",
      "[['ch0', [  0, 255,   0], [  349,   532]],\n",
      " ['ch1', [255,   0, 255], [  501,  1170]]]\n",
      "\n",
      "< Points >\n",
      "# Name   Color (BGR)      Coordinate (ZYX px)\n",
      "[['p0', [255, 255,   0], [ 60.74080832, 298.41015672, 675.12198956]],\n",
      " ['p1', [255,   0, 255], [ 85.18754136, 657.80924192, 334.14099037]],\n",
      " ['p2', [  0, 255, 255], [ 86.52128158, 315.45462511, 315.8428244 ]]]\n",
      "\n",
      "< Snapshots >\n",
      "['ss0', 'ss1']\n",
      "\n"
     ]
    }
   ],
   "source": [
    "print(secv.files)\n",
    "print(secv.geometry)\n",
    "print(secv.display)\n",
    "print(secv.position)\n",
    "print(secv.channels)\n",
    "print(secv.points)\n",
    "print(secv.snapshots)"
   ]
  },
  {
   "cell_type": "markdown",
   "id": "0e0ea117-5237-4c17-abfb-87bbe9b117a3",
   "metadata": {},
   "source": [
    "#### Files\n",
    "As an example below, SECV.Files object defines composition of data files."
   ]
  },
  {
   "cell_type": "code",
   "execution_count": null,
   "id": "4470dcaa-0edf-42b6-b1af-0fc61af54355",
   "metadata": {},
   "outputs": [
    {
     "name": "stdout",
     "output_type": "stream",
     "text": [
      "< Files >\n",
      "{ 'secv path': '.../your_secv_file.secv',\n",
      "      'paths': ('.../your_oib_file.oib', '.../your_oir_file.oir') }\n",
      "\n"
     ]
    }
   ],
   "source": [
    "secv.files.add(['your_tif_file.tif',              # add two data files\n",
    "                'your_oir_file.oir'])             # spatial dimensions of all data must be consistent\n",
    "secv.files.delete([1])                            # delete the second data file (0 is the first)\n",
    "print(secv.files)"
   ]
  },
  {
   "cell_type": "markdown",
   "id": "331a9231-683d-405f-9251-4ed8d06cb21d",
   "metadata": {},
   "source": [
    "#### Geometry\n",
    "SECV.Geometry includes multiple settings in size or scale of the section image. You can change these settings as you set items in a python dictionary."
   ]
  },
  {
   "cell_type": "code",
   "execution_count": null,
   "id": "9e77c6d9-52f4-4e18-8fba-07dc5f3f7fe2",
   "metadata": {},
   "outputs": [
    {
     "name": "stdout",
     "output_type": "stream",
     "text": [
      "< Geometry >\n",
      "{       'X_px_size': 0.3,\n",
      "        'Y_px_size': 0.1968076171875,\n",
      "        'Z_px_size': 0.9909090909090909,\n",
      "   'expansion_rate': 0.8,\n",
      "       'image_size': (200, 300),\n",
      " 'scale_bar_length': 10.0                }\n",
      "\n"
     ]
    }
   ],
   "source": [
    "secv.geometry['expansion_rate'] = 0.8              # 1.0 = 100 % expansion rate\n",
    "secv.geometry['image_size'] = (200, 300)           # (width, height) in px\n",
    "secv.geometry['scale_bar_length'] = 10.0           # um\n",
    "secv.geometry['X_px_size'] = 0.3                   # um/px\n",
    "print(secv.geometry)"
   ]
  },
  {
   "cell_type": "markdown",
   "id": "248ca761-616d-46bc-b67a-ebef6b6e4849",
   "metadata": {},
   "source": [
    "You can reset pixel sizes on X, Y, and Z axes, if at least one of your data files includes corresponding information."
   ]
  },
  {
   "cell_type": "code",
   "execution_count": null,
   "id": "5f5f19c5-7880-4fdc-851c-fa2ebf2df932",
   "metadata": {},
   "outputs": [
    {
     "name": "stdout",
     "output_type": "stream",
     "text": [
      "< Geometry >\n",
      "{       'X_px_size': 0.1968076171875,\n",
      "        'Y_px_size': 0.1968076171875,\n",
      "        'Z_px_size': 0.9909090909090909,\n",
      "   'expansion_rate': 0.8,\n",
      "       'image_size': (200, 300),\n",
      " 'scale_bar_length': 10.0                }\n",
      "\n"
     ]
    }
   ],
   "source": [
    "secv.geometry.reset_px_sizes()                     # reset px sizes when metadata in data files is available\n",
    "print(secv.geometry)"
   ]
  },
  {
   "cell_type": "markdown",
   "id": "38567137-e5bd-4638-ba96-0f292c369df7",
   "metadata": {},
   "source": [
    "#### Display\n",
    "While most of SECV.Display settings are only related to GUI, the following items directly affect output of the section image by CUI as well. "
   ]
  },
  {
   "cell_type": "code",
   "execution_count": null,
   "id": "78ad2d2d-4f33-4f62-83f3-082d6550d7c7",
   "metadata": {},
   "outputs": [
    {
     "name": "stdout",
     "output_type": "stream",
     "text": [
      "< Display >\n",
      "{     'thickness': 10,\n",
      "           'zoom': 0.94,\n",
      "           'axis': True,\n",
      "      'scale_bar': True,\n",
      "         'points': True,\n",
      "           'dock': True,\n",
      "     'white_back': False,\n",
      "          'guide': False,\n",
      "       'sideview': False,\n",
      "         'center': (402, 242),\n",
      "    'window_size': (804, 484),\n",
      " 'shown_channels': (True, True),\n",
      "    'point_focus': -1            }\n",
      "\n"
     ]
    }
   ],
   "source": [
    "secv.display['thickness'] = 10                     # integer thickness (px) of depth range that will be stacked on image\n",
    "secv.display['scale_bar'] = True                   # if True, scale_bar will be displayed on image\n",
    "secv.display['points'] = True                      # if True, points will be displayed on image\n",
    "secv.display['white_back'] = False                 # if True, back ground of image will be white (otherwise black)\n",
    "secv.display['shown_channels'] = (True, True)      # same number of bools with channels, indicating whether each channel is shown on image\n",
    "print(secv.display)"
   ]
  },
  {
   "cell_type": "markdown",
   "id": "34b32638-d3c2-4475-8529-5897fca0f0a9",
   "metadata": {},
   "source": [
    "#### Position\n",
    "SECV.Position determines a plane in three-dimensional coordinate system by the central point and two vectors in the vertical or horizontal directions. On the plane, a section image of your data will be reconstructed."
   ]
  },
  {
   "cell_type": "code",
   "execution_count": null,
   "id": "044f7b2b-fffd-49e5-b909-cc3f28d5e29a",
   "metadata": {},
   "outputs": [
    {
     "name": "stdout",
     "output_type": "stream",
     "text": [
      "< Position >\n",
      "#  Z                Y                X                (px)\n",
      "[[ 6.77120079e+01,  4.82057533e+02,  5.48338985e+02]   # center\n",
      " [ 1.03463641e-02,  9.98634365e-01, -3.96497766e-03]   # vertical\n",
      " [-1.86381748e-01,  4.75930474e-02, -3.42214515e-01]]  # horizontal\n",
      "\n"
     ]
    }
   ],
   "source": [
    "secv.position.shift(10, axis = 0)                  # shifting section along Z axis for a distance of 10 units (1 unit = minimum px size)\n",
    "secv.position.shift(15, axis = 2)                  # shifting section along X axis for a distance of 15 units\n",
    "secv.position.rotate(90, axis = 1)                 # rotating section around Y axis for an angle of 90 degrees\n",
    "print(secv.position)"
   ]
  },
  {
   "cell_type": "markdown",
   "id": "5b877842-fe2d-45a2-b0ba-dcce997f21d4",
   "metadata": {},
   "source": [
    "the default position of the section is at the center of your data and parallel to the XY plane."
   ]
  },
  {
   "cell_type": "code",
   "execution_count": null,
   "id": "490c7ce2-3d3f-42a2-be6e-fd265a47bb9b",
   "metadata": {},
   "outputs": [
    {
     "name": "stdout",
     "output_type": "stream",
     "text": [
      "< Position >\n",
      "#  Z     Y     X     (px)\n",
      "[[ 55., 512., 512.]   # center\n",
      " [  0.,   1.,   0.]   # vertical\n",
      " [  0.,   0.,   1.]]  # horizontal\n",
      "\n"
     ]
    }
   ],
   "source": [
    "secv.position.reset()                              # resetting section to default position\n",
    "print(secv.position)"
   ]
  },
  {
   "cell_type": "markdown",
   "id": "86979e88-ae5e-4dfc-a636-cdf2bbfd8956",
   "metadata": {},
   "source": [
    "#### Channels\n",
    "By SECV.Channels object, you can adjust color or value range of each channel in your data."
   ]
  },
  {
   "cell_type": "code",
   "execution_count": null,
   "id": "a3f7432d-89b1-4cd2-9425-170cde2c5ebc",
   "metadata": {},
   "outputs": [
    {
     "name": "stdout",
     "output_type": "stream",
     "text": [
      "< Channels >\n",
      "# Name         Color (BGR)      Vrange\n",
      "[['new_name', [255, 255,   0], [  500,  1000]],\n",
      " ['ch1'     , [  0,   0, 255], [  500,  1000]]]\n",
      "\n"
     ]
    }
   ],
   "source": [
    "secv.channels.setname(0, 'new_name')               # renaming the first channel as 'new_name'\n",
    "secv.channels.setcolor(1, [0, 0, 255])             # turning the second channel into red\n",
    "secv.channels.setcolor(0, [180., 100., 50.],       # turning the second channel into cyan\n",
    "                        as_hsl = True)             # if as_hsl = True, given color will be assumed as HSL (default: False)\n",
    "secv.channels.setvrange([0, 1],                    # seting minimum and maximum values in image for the first and second channels\n",
    "                         vmin = 500, vmax = 1000)\n",
    "print(secv.channels)"
   ]
  },
  {
   "cell_type": "markdown",
   "id": "245c0e18-249e-43da-8b9d-195fd09a61a2",
   "metadata": {},
   "source": [
    "You can use auto color function to set colors of channels."
   ]
  },
  {
   "cell_type": "code",
   "execution_count": null,
   "id": "2c70344f-4547-4aca-84b0-369fa310b333",
   "metadata": {},
   "outputs": [
    {
     "name": "stdout",
     "output_type": "stream",
     "text": [
      "< Channels >\n",
      "# Name         Color (BGR)      Vrange\n",
      "[['new_name', [  0, 255,   0], [  500,  1000]],\n",
      " ['ch1'     , [255,   0, 255], [  500,  1000]]]\n",
      "\n"
     ]
    }
   ],
   "source": [
    "secv.channels.auto_color()                         # setting colors of all channels automatically\n",
    "secv.channels.auto_color([0, 1])                   # setting colors of the first and second channels automatically\n",
    "print(secv.channels)"
   ]
  },
  {
   "cell_type": "markdown",
   "id": "0a798568-23bc-4806-a1a0-f1433f5ae5cf",
   "metadata": {},
   "source": [
    "You can get each type of data in channel settings as python lists."
   ]
  },
  {
   "cell_type": "code",
   "execution_count": null,
   "id": "fda91dfe-9068-4561-9430-ebe6e6f87838",
   "metadata": {},
   "outputs": [
    {
     "name": "stdout",
     "output_type": "stream",
     "text": [
      "['new_name', 'ch1']\n",
      "[[0, 255, 0], [255, 0, 255]]\n",
      "[[500, 1000], [500, 1000]]\n"
     ]
    }
   ],
   "source": [
    "ch_names = secv.channels.getnames()\n",
    "ch_colors = secv.channels.getcolors()\n",
    "ch_vranges = secv.channels.getvranges()\n",
    "print(ch_names)\n",
    "print(ch_colors)\n",
    "print(ch_vranges)"
   ]
  },
  {
   "cell_type": "markdown",
   "id": "915c7703-37e6-4532-8c50-a209f6bf5c98",
   "metadata": {},
   "source": [
    "#### Points\n",
    "By SECV.Points object, you can add or delete points, and adjust their colors or coordinates."
   ]
  },
  {
   "cell_type": "code",
   "execution_count": null,
   "id": "9c7d2814-d612-4c2e-89c0-42cddf0f2b7a",
   "metadata": {},
   "outputs": [
    {
     "name": "stdout",
     "output_type": "stream",
     "text": [
      "< Points >\n",
      "# Name          Color (BGR)      Coordinate (ZYX px)\n",
      "[['new_name' , [255,   0,   0], [ 10.,  50., 100.]],\n",
      " ['new_point', [255,   0,   0], [ 55., 512., 512.]],\n",
      " ['p3'       , [  0, 255,   0], [ 40., 400., 500.]]]\n",
      "\n"
     ]
    }
   ],
   "source": [
    "secv.points.add(name = 'new_point',                # adding a point of given name, color, and coordinate\n",
    "                color = [100, 100, 100],           # if None, values will be automatically set\n",
    "                coordinate = None)                 # if coordinate is None, it will be set as the center of section\n",
    "secv.points.add(name = None,\n",
    "                color = None,\n",
    "                coordinate = [40, 400, 500])\n",
    "secv.points.delete([0, 1])                         # deleting first and second points in the list\n",
    "secv.points.setname(0, 'new_name')                 # renaming the first point as 'new_name'\n",
    "secv.points.setcolor([0 ,1], [255, 0, 0])          # turning the first and second points into blue\n",
    "secv.points.setcoordinate(0, [10., 50., 100.])     # setting coordinate of the first point to (z, y, x) = (10., 50., 100.)\n",
    "print(secv.points)"
   ]
  },
  {
   "cell_type": "markdown",
   "id": "85509fc5-2671-4641-98c6-85f97af460f6",
   "metadata": {},
   "source": [
    "Same as channels, you can use auto color function for point colors."
   ]
  },
  {
   "cell_type": "code",
   "execution_count": null,
   "id": "c40f4f0b-e359-46db-be8b-e7a88ba88357",
   "metadata": {},
   "outputs": [
    {
     "name": "stdout",
     "output_type": "stream",
     "text": [
      "< Points >\n",
      "# Name          Color (BGR)      Coordinate (ZYX px)\n",
      "[['new_name' , [  0, 255, 255], [ 10.,  50., 100.]],\n",
      " ['new_point', [255,   0, 255], [ 55., 512., 512.]],\n",
      " ['p3'       , [255, 255,   0], [ 40., 400., 500.]]]\n",
      "\n"
     ]
    }
   ],
   "source": [
    "secv.points.auto_color()                           # setting colors of all points automatically\n",
    "secv.points.auto_color([0, 2])                     # setting colors of the first and third points automatically\n",
    "print(secv.points)"
   ]
  },
  {
   "cell_type": "markdown",
   "id": "eb18cec9-f2c1-4860-a0f1-026ac397a2bc",
   "metadata": {},
   "source": [
    "You will have each setting of points as python lists."
   ]
  },
  {
   "cell_type": "code",
   "execution_count": null,
   "id": "38998be8-89da-4985-9df3-234e9f5ef189",
   "metadata": {},
   "outputs": [
    {
     "name": "stdout",
     "output_type": "stream",
     "text": [
      "['new_name', 'new_point', 'p3']\n",
      "[[0, 255, 255], [255, 0, 255], [255, 255, 0]]\n",
      "[[10.0, 50.0, 100.0], [55.0, 512.0, 512.0], [40.0, 400.0, 500.0]]\n"
     ]
    }
   ],
   "source": [
    "pt_names = secv.points.getnames()\n",
    "pt_colors = secv.points.getcolors()\n",
    "pt_coors = secv.points.getcoordinates()\n",
    "print(pt_names)\n",
    "print(pt_colors)\n",
    "print(pt_coors)"
   ]
  },
  {
   "cell_type": "markdown",
   "id": "51efb2fe-429d-4322-8d90-bfc0aca133ce",
   "metadata": {},
   "source": [
    "#### Snapshots\n",
    "SECV.Snapshots object enables you to memorize and restore other SECV settings at any specific timings."
   ]
  },
  {
   "cell_type": "code",
   "execution_count": null,
   "id": "14118491-2cb6-4582-8132-2898edcb3a48",
   "metadata": {},
   "outputs": [
    {
     "name": "stdout",
     "output_type": "stream",
     "text": [
      "< Snapshots >\n",
      "['new_name', 'ss2']\n",
      "\n"
     ]
    }
   ],
   "source": [
    "secv.snapshots.snap()                              # adding a snapshot of the current secv settings\n",
    "secv.snapshots.delete(1)                           # deleting the second snapshot\n",
    "secv.snapshots.setname(0, 'new_name')              # renaming the first snapshot as 'new_name'\n",
    "secv.snapshots.overwrite(1,                        # overwriting the second snapshot\n",
    "                         pos_on = True,            # if True, positional settings will be overwritten\n",
    "                         chs_on = True,            # if True, channel settings will be overwritten\n",
    "                         pts_on = True)            # if True, point settings will be overwritten\n",
    "secv.snapshots.restore(0,                          # restoring secv settings from the first snapshot\n",
    "                       pos_on = True,              # if True, positoinal settings will be restored\n",
    "                       chs_on = True,              # if True, channel settings will be restored\n",
    "                       pts_on = True)              # if True, point settings will be restored\n",
    "print(secv.snapshots)"
   ]
  },
  {
   "cell_type": "markdown",
   "id": "f9fc4464-ed34-4346-a57c-d3b67b18ebde",
   "metadata": {},
   "source": [
    "You can get names of snapshots as a python list, and preview images of each snapshot as numpy arrays."
   ]
  },
  {
   "cell_type": "code",
   "execution_count": null,
   "id": "62fd528c-7433-4c8a-8948-2a8bd98d2849",
   "metadata": {},
   "outputs": [],
   "source": [
    "ss_names = secv.snapshots.getnames()\n",
    "image_prev, skel_prev = secv.snapshots.getpreview(0)\n",
    "fig = plt.figure(figsize=(10,5))\n",
    "fig.add_subplot(121)\n",
    "plt.imshow(image_prev[:,:,::-1])                   # converting image from BGR to RGB\n",
    "fig.add_subplot(122)\n",
    "plt.imshow(skel_prev[:,:,::-1])"
   ]
  },
  {
   "cell_type": "markdown",
   "id": "1845dd6f-3be9-4ca3-bef4-2352314df1f9",
   "metadata": {},
   "source": [
    "### Output of SectionViewer\n",
    "SECV object outputs a section 'frame' and 'image', where 'frame' is an array of data values in your data, while 'image' is a synthesized BGR image. 'Skeleton' that is a schematic diagram showing positioning of the section in your data is also available. Each form of output will be given as a numpy array."
   ]
  },
  {
   "cell_type": "code",
   "execution_count": null,
   "id": "b08aefbc-9dd6-47e9-a089-8d49359e243a",
   "metadata": {},
   "outputs": [],
   "source": [
    "frame = secv.getframe()\n",
    "image = secv.getimage()\n",
    "skeleton = secv.getskeleton()\n",
    "\n",
    "fig = plt.figure(figsize = (15,5))\n",
    "chn = len(frame)\n",
    "for i in range(chn):\n",
    "    fig.add_subplot(1, chn, i + 1)\n",
    "    plt.imshow(frame[i])\n",
    "fig = plt.figure(figsize = (10,5))\n",
    "fig.add_subplot(121)\n",
    "plt.imshow(image[:,:,::-1])                        # converting image from BGR to RGB\n",
    "fig.add_subplot(122)\n",
    "plt.imshow(skeleton[:,:,::-1])"
   ]
  },
  {
   "cell_type": "markdown",
   "id": "4c4ef463-cdfb-4746-a4da-38ec3412e7d4",
   "metadata": {},
   "source": [
    "#### Save changes\n",
    "The following function saves changes in SECV settings. You can also pass a new .secv path to save them as another file, and this operation is necessary if your SECV object have been generated by using a path other than .secv format."
   ]
  },
  {
   "cell_type": "code",
   "execution_count": null,
   "id": "c540190e-0a6e-45fe-9276-0c3653f13579",
   "metadata": {},
   "outputs": [],
   "source": [
    "secv.save()"
   ]
  },
  {
   "cell_type": "markdown",
   "id": "191c2479-ad9e-428b-8199-e79426b3eb17",
   "metadata": {},
   "source": [
    "#### Reload .secv file\n",
    "This function reloads the .secv file that you have given (or you can pass another .secv file path) and overwrite settings in your SECV object."
   ]
  },
  {
   "cell_type": "code",
   "execution_count": null,
   "id": "a10ff023-9625-4ee5-ad4d-ee66725a042f",
   "metadata": {},
   "outputs": [],
   "source": [
    "secv.reload()"
   ]
  },
  {
   "cell_type": "markdown",
   "id": "a33b64c5-6e30-4ba9-9c59-b70197258828",
   "metadata": {},
   "source": [
    "#### A tip\n",
    "By using save() and reload() functions, it is possible to communicate with the GUI software from the CUI end in the follwing manner:<br>\n",
    "GUI -> CUI:  (1) Save a .secv file in the GUI software.  (2) Reload the same file in your CUI platform.<br>\n",
    "CUI -> GUI:  (1) Save a .secv file by the CUI command.  (2) Reload the same file in the GUI software."
   ]
  }
 ],
 "metadata": {
  "kernelspec": {
   "display_name": "Python 3 (ipykernel)",
   "language": "python",
   "name": "python3"
  },
  "language_info": {
   "codemirror_mode": {
    "name": "ipython",
    "version": 3
   },
   "file_extension": ".py",
   "mimetype": "text/x-python",
   "name": "python",
   "nbconvert_exporter": "python",
   "pygments_lexer": "ipython3",
   "version": "3.10.13"
  }
 },
 "nbformat": 4,
 "nbformat_minor": 5
}
